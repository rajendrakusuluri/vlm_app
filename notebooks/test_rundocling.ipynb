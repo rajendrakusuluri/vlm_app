{
 "cells": [
  {
   "cell_type": "code",
   "execution_count": null,
   "metadata": {},
   "outputs": [],
   "source": [
    "import sys\n",
    "sys.path.append('../backend')\n",
    "from models.vlm_model  import process_vlm,download_model_weights\n",
    "# download_model_weights() ----> run only once per model "
   ]
  },
  {
   "cell_type": "code",
   "execution_count": 4,
   "metadata": {},
   "outputs": [],
   "source": [
    "\n",
    "image_path=\"/mnt/d/fun/vlm_app/data/bill_receipt.png\"\n",
    "with open(image_path, \"rb\") as image_file:  # Open in binary read mode (\"rb\")\n",
    "      image_data = image_file.read()\n",
    "text_prompt = \"Convert this page to docling.\""
   ]
  },
  {
   "cell_type": "code",
   "execution_count": 5,
   "metadata": {},
   "outputs": [
    {
     "name": "stdout",
     "output_type": "stream",
     "text": [
      "/mnt/d/fun/vlm_app/Weights\n",
      "Model loaded successfully from:  /mnt/d/fun/vlm_app/Weights\n"
     ]
    },
    {
     "name": "stderr",
     "output_type": "stream",
     "text": [
      "Truncation was not explicitly activated but `max_length` is provided a specific value, please use `truncation=True` to explicitly truncate examples to max length. Defaulting to 'longest_first' truncation strategy. If you encode pairs of sequences (GLUE-style) with the tokenizer you can select this strategy more precisely by providing a specific strategy to `truncation`.\n"
     ]
    }
   ],
   "source": [
    "out=process_vlm(image_data,text_prompt)"
   ]
  },
  {
   "cell_type": "code",
   "execution_count": 6,
   "metadata": {},
   "outputs": [
    {
     "name": "stdout",
     "output_type": "stream",
     "text": [
      "## CASH RECEIPT Shop Name\n",
      "\n",
      "Address: Lorem Ipsum 3/18 Tel: 0987 123 890 5678 Date: MM/DD/YYYY Manager: Lorem Ipsum\n",
      "\n",
      "Lorem 2.15 Ipsum 8.75 Dolor sit 3.50\n",
      "\n",
      "Price 14.40 Tax 1.25 Total 15.65\n"
     ]
    }
   ],
   "source": [
    "print(out)"
   ]
  }
 ],
 "metadata": {
  "kernelspec": {
   "display_name": ".venv",
   "language": "python",
   "name": "python3"
  },
  "language_info": {
   "codemirror_mode": {
    "name": "ipython",
    "version": 3
   },
   "file_extension": ".py",
   "mimetype": "text/x-python",
   "name": "python",
   "nbconvert_exporter": "python",
   "pygments_lexer": "ipython3",
   "version": "3.12.2"
  }
 },
 "nbformat": 4,
 "nbformat_minor": 2
}
