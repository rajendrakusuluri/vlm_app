{
 "cells": [
  {
   "cell_type": "code",
   "execution_count": 1,
   "metadata": {},
   "outputs": [],
   "source": [
    "import sys \n",
    "sys.path.append('../backend')\n",
    "sys.path.append('../')"
   ]
  },
  {
   "cell_type": "code",
   "execution_count": 2,
   "metadata": {},
   "outputs": [],
   "source": [
    "# !pip install -r '../requirements.txt'"
   ]
  },
  {
   "cell_type": "code",
   "execution_count": 3,
   "metadata": {},
   "outputs": [],
   "source": [
    "# !pip install qwen_vl_utils"
   ]
  },
  {
   "cell_type": "code",
   "execution_count": 4,
   "metadata": {},
   "outputs": [],
   "source": [
    "# pip install torchvision"
   ]
  },
  {
   "cell_type": "code",
   "execution_count": 5,
   "metadata": {},
   "outputs": [
    {
     "name": "stderr",
     "output_type": "stream",
     "text": [
      "/mnt/d/fun/vlm_app/.venv/lib/python3.12/site-packages/tqdm/auto.py:21: TqdmWarning: IProgress not found. Please update jupyter and ipywidgets. See https://ipywidgets.readthedocs.io/en/stable/user_install.html\n",
      "  from .autonotebook import tqdm as notebook_tqdm\n"
     ]
    },
    {
     "name": "stdout",
     "output_type": "stream",
     "text": [
      "Using device: cpu\n",
      "Using cache directory: /mnt/d/fun/vlm_app/backend/Weights\n"
     ]
    },
    {
     "name": "stderr",
     "output_type": "stream",
     "text": [
      "Loading checkpoint shards: 100%|██████████| 2/2 [00:07<00:00,  4.00s/it]\n",
      "Using a slow image processor as `use_fast` is unset and a slow processor was saved with this model. `use_fast=True` will be the default behavior in v4.52, even if the model was saved with a slow processor. This will result in minor differences in outputs. You'll still be able to use a slow processor with `use_fast=False`.\n"
     ]
    },
    {
     "name": "stdout",
     "output_type": "stream",
     "text": [
      "Qwen2-VL model loaded successfully!\n"
     ]
    }
   ],
   "source": [
    "# from backend.models.vlm_qwen2b import *\n",
    "# !pip install fastapi\n",
    "from backend.main import *"
   ]
  },
  {
   "cell_type": "code",
   "execution_count": null,
   "metadata": {},
   "outputs": [],
   "source": []
  },
  {
   "cell_type": "code",
   "execution_count": 1,
   "metadata": {},
   "outputs": [
    {
     "name": "stdout",
     "output_type": "stream",
     "text": [
      "Health Check: {'status': 'ok'}\n"
     ]
    }
   ],
   "source": [
    "import requests\n",
    "\n",
    "# Replace with the actual URL of your FastAPI application\n",
    "BASE_URL = \"http://localhost:8000\"  # Or whatever port your app is running on\n",
    "\n",
    "def health_check():\n",
    "    \"\"\"\n",
    "    Performs a health check against the /health endpoint.\n",
    "    \"\"\"\n",
    "    try:\n",
    "        response = requests.get(f\"{BASE_URL}/health\")\n",
    "        response.raise_for_status()  # Raise an exception for bad status codes\n",
    "        return response.json()\n",
    "    except requests.exceptions.RequestException as e:\n",
    "        print(f\"Error during health check: {e}\")\n",
    "        return None\n",
    "\n",
    "if __name__ == \"__main__\":\n",
    "    health_status = health_check()\n",
    "    if health_status:\n",
    "        print(f\"Health Check: {health_status}\")\n",
    "    else:\n",
    "        print(\"Health check failed.\")"
   ]
  },
  {
   "cell_type": "code",
   "execution_count": 3,
   "metadata": {},
   "outputs": [
    {
     "name": "stdout",
     "output_type": "stream",
     "text": [
      "The image shows a cash receipt with the following details:\n",
      "\n",
      "- **Shop Name**: Lorem Ipsum\n",
      "- **Address**: Lorem Ipsum 3/18\n",
      "- **Tel**: 0987 123 890 5678\n",
      "- **Date**: MM/DD/YYYY\n",
      "- **Manager**: Lorem Ipsum\n",
      "- **Price**: 14.40\n",
      "- **Tax**: 1.25\n",
      "- **Total**: 15.65\n",
      "\n",
      "There is also a barcode at the bottom of the receipt."
     ]
    }
   ],
   "source": [
    "import requests\n",
    "import io\n",
    "\n",
    "def call_stream_process_image(image_path: str, text_prompt: str):\n",
    "    \"\"\"\n",
    "    Calls the stream_process_image endpoint with an image and text prompt.\n",
    "\n",
    "    Args:\n",
    "        image_path: Path to the image file.\n",
    "        text_prompt: The text prompt to send.\n",
    "\n",
    "    Returns:\n",
    "        The streaming response from the server.\n",
    "    \"\"\"\n",
    "    try:\n",
    "        with open(image_path, \"rb\") as image_file:\n",
    "            files = {'files': (image_path, image_file, 'image/jpeg')} # Adjust image/jpeg to actual type if needed\n",
    "            data = {'text_prompt': text_prompt}\n",
    "\n",
    "            response = requests.post(\"http://localhost:8000/stream_process_image/\", files=files, data=data, stream=True) # Replace with your actual URL\n",
    "\n",
    "            if response.status_code == 200:\n",
    "                for chunk in response.iter_content(chunk_size=512):  # Adjust chunk_size as needed\n",
    "                    if chunk:\n",
    "                        print(chunk.decode('utf-8', errors='ignore'), end='', flush=True)  # Print chunks\n",
    "            else:\n",
    "                print(f\"Error: {response.status_code} - {response.text}\")\n",
    "\n",
    "    except FileNotFoundError:\n",
    "        print(f\"Error: Image file not found at {image_path}\")\n",
    "    except requests.exceptions.RequestException as e:\n",
    "        print(f\"Request Error: {e}\")\n",
    "# Example Usage:\n",
    "if __name__ == \"__main__\":\n",
    "    image_file_path = \"../data/bill_receipt.png\"  # Replace with the actual path to your image\n",
    "    user_prompt = \"bill in the image\"\n",
    "    call_stream_process_image(image_file_path, user_prompt)"
   ]
  }
 ],
 "metadata": {
  "kernelspec": {
   "display_name": ".venv",
   "language": "python",
   "name": "python3"
  },
  "language_info": {
   "codemirror_mode": {
    "name": "ipython",
    "version": 3
   },
   "file_extension": ".py",
   "mimetype": "text/x-python",
   "name": "python",
   "nbconvert_exporter": "python",
   "pygments_lexer": "ipython3",
   "version": "3.12.2"
  }
 },
 "nbformat": 4,
 "nbformat_minor": 2
}
